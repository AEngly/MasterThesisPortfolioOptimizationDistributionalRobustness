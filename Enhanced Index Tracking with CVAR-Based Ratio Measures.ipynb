{
 "cells": [
  {
   "cell_type": "markdown",
   "id": "4f58e13b",
   "metadata": {},
   "source": [
    "<center><h1> Enhanced Index Tracking with CVAR-Based Ratio Measures <h1/><center/>"
   ]
  },
  {
   "cell_type": "markdown",
   "id": "b0e8b8d8",
   "metadata": {},
   "source": [
    "This notebook tries to replicate the results from the above paper."
   ]
  },
  {
   "cell_type": "markdown",
   "id": "5d2cc0e7",
   "metadata": {},
   "source": [
    "## Preamble"
   ]
  },
  {
   "cell_type": "code",
   "execution_count": 109,
   "id": "6ca96dc3",
   "metadata": {},
   "outputs": [],
   "source": [
    "import pandas as pd\n",
    "import numpy as np\n",
    "from mosek.fusion import *"
   ]
  },
  {
   "cell_type": "markdown",
   "id": "36fccaa6",
   "metadata": {},
   "source": [
    "## Loading Data"
   ]
  },
  {
   "cell_type": "code",
   "execution_count": 110,
   "id": "aff22f5d",
   "metadata": {},
   "outputs": [],
   "source": [
    "pathCSV = \"./Data/Data from Guastaroba (2020)/CSV\";"
   ]
  },
  {
   "cell_type": "markdown",
   "id": "e21cf8b5",
   "metadata": {},
   "source": [
    "Read data for the UU-period."
   ]
  },
  {
   "cell_type": "code",
   "execution_count": 111,
   "id": "dedd15f3",
   "metadata": {},
   "outputs": [],
   "source": [
    "IS_UU = pd.read_csv(pathCSV + \"/IS-GMS-UU.csv\", header=None);\n",
    "IS_UU = IS_UU.values;\n",
    "OoS_UU = pd.read_csv(pathCSV + \"/OoS-GMS-UU.csv\", header=None);\n",
    "OoS_UU = OoS_UU.values;"
   ]
  },
  {
   "cell_type": "markdown",
   "id": "cef4965b",
   "metadata": {},
   "source": [
    "Read data for the UD-period."
   ]
  },
  {
   "cell_type": "code",
   "execution_count": 112,
   "id": "2c5b29d5",
   "metadata": {},
   "outputs": [],
   "source": [
    "IS_UD = pd.read_csv(pathCSV + \"/IS-GMS-UD.csv\", header=None);\n",
    "IS_UD = IS_UD.values;\n",
    "OoS_UD = pd.read_csv(pathCSV + \"/OoS-GMS-UD.csv\", header=None);\n",
    "OoS_UD = OoS_UD.values;"
   ]
  },
  {
   "cell_type": "markdown",
   "id": "f28d8467",
   "metadata": {},
   "source": [
    "Read data for the DD-period."
   ]
  },
  {
   "cell_type": "code",
   "execution_count": 113,
   "id": "2bc1c8d9",
   "metadata": {},
   "outputs": [],
   "source": [
    "IS_DD = pd.read_csv(pathCSV + \"/IS-GMS-DD.csv\", header=None);\n",
    "IS_DD = IS_DD.values;\n",
    "OoS_DD = pd.read_csv(pathCSV + \"/OoS-GMS-DD.csv\", header=None);\n",
    "OoS_DD = OoS_DD.values;"
   ]
  },
  {
   "cell_type": "markdown",
   "id": "8acf6e5c",
   "metadata": {},
   "source": [
    "Read data for the DU-period."
   ]
  },
  {
   "cell_type": "code",
   "execution_count": 114,
   "id": "198c7502",
   "metadata": {},
   "outputs": [],
   "source": [
    "IS_DU = pd.read_csv(pathCSV + \"/IS-GMS-DU.csv\", header=None);\n",
    "IS_DU = IS_DU.values;\n",
    "OoS_DU = pd.read_csv(pathCSV + \"/OoS-GMS-DU.csv\", header=None);\n",
    "OoS_DU = OoS_DU.values;"
   ]
  },
  {
   "cell_type": "markdown",
   "id": "94f6f5da",
   "metadata": {},
   "source": [
    "The indices are located in the first column."
   ]
  },
  {
   "cell_type": "markdown",
   "id": "c899b56f",
   "metadata": {},
   "source": [
    "## Building model with MOSEK's Fusion API"
   ]
  },
  {
   "cell_type": "markdown",
   "id": "3dbc6df1",
   "metadata": {},
   "source": [
    "We start by specifying necessary constants."
   ]
  },
  {
   "cell_type": "code",
   "execution_count": 115,
   "id": "ca5967ac",
   "metadata": {},
   "outputs": [],
   "source": [
    "T = 104;\n",
    "N = 100;\n",
    "K = 5;"
   ]
  },
  {
   "cell_type": "code",
   "execution_count": 116,
   "id": "998258b8",
   "metadata": {},
   "outputs": [],
   "source": [
    "def WCVaR(data, alpha, N, T, K):\n",
    "    \n",
    "    eps1 = 0.0001;\n",
    "    eps2 = 0.0001;\n",
    "    \n",
    "    alphaAnnualy = alpha;\n",
    "    alphaWeekly = ((1 + alphaAnnualy)**(1/52) - 1);\n",
    "    \n",
    "    means = np.mean(IS_UU, axis=0);\n",
    "    mu = means[1:];\n",
    "    mu_alpha = means[0] + alphaWeekly;\n",
    "    \n",
    "    e = np.ones(N);\n",
    "    \n",
    "    # Constants for CVaR\n",
    "    omega = np.array([1/5 for i in range(5)]);\n",
    "    eta = np.array([0.03, 0.10, 0.15, 0.17, 0.20]);\n",
    "    \n",
    "    # Separate input data\n",
    "    rI = data[:,0];\n",
    "    rS = data[:,1:];\n",
    "    \n",
    "    with Model('WCVaR') as M:\n",
    "        \n",
    "        # Define variables\n",
    "        x = M.variable(\"x\", N, Domain.greaterThan(0.0));\n",
    "        d = M.variable(\"d\", [T,K], Domain.greaterThan(0.0));\n",
    "        \n",
    "        # Define constraints\n",
    "        M.constraint('first', Expr.sum(Expr.mult(Expr.sub(mu,e*mu_alpha), x)), Domain.equalsTo(1.0));\n",
    "        M.constraint('second', Expr.sum(x), Domain.lessThan(1/eps1));\n",
    "        \n",
    "        for t in range(T):\n",
    "            for k in range(K):\n",
    "                M.constraint('c{}{}'.format(t,k), Expr.add(Expr.sub(d.index(t,k), eta[k]), Expr.sum(Expr.sub(rS[t,:],e*rI[t]))), Domain.greaterThan(0.0));\n",
    "        \n",
    "        # Define objective\n",
    "        M.objective('obj', ObjectiveSense.Minimize, Expr.sum(Expr.mult(omega,eta)));\n",
    "        \n",
    "        \n",
    "        "
   ]
  },
  {
   "cell_type": "code",
   "execution_count": 97,
   "id": "012b5947",
   "metadata": {},
   "outputs": [],
   "source": [
    "e = np.ones(100)"
   ]
  },
  {
   "cell_type": "code",
   "execution_count": 107,
   "id": "e005bf3e",
   "metadata": {},
   "outputs": [],
   "source": [
    "omega = np.array([1/5 for i in range(5)]);\n",
    "eta = np.array([0.03, 0.10, 0.15, 0.17, 0.20]);"
   ]
  },
  {
   "cell_type": "code",
   "execution_count": 108,
   "id": "613f5e11",
   "metadata": {},
   "outputs": [
    {
     "data": {
      "text/plain": [
       "array([6.66666667, 2.        , 1.33333333, 1.17647059, 1.        ])"
      ]
     },
     "execution_count": 108,
     "metadata": {},
     "output_type": "execute_result"
    }
   ],
   "source": [
    "omega/eta"
   ]
  },
  {
   "cell_type": "code",
   "execution_count": null,
   "id": "cf87e0cc",
   "metadata": {},
   "outputs": [],
   "source": []
  }
 ],
 "metadata": {
  "kernelspec": {
   "display_name": "Python 3 (ipykernel)",
   "language": "python",
   "name": "python3"
  },
  "language_info": {
   "codemirror_mode": {
    "name": "ipython",
    "version": 3
   },
   "file_extension": ".py",
   "mimetype": "text/x-python",
   "name": "python",
   "nbconvert_exporter": "python",
   "pygments_lexer": "ipython3",
   "version": "3.9.12"
  }
 },
 "nbformat": 4,
 "nbformat_minor": 5
}
