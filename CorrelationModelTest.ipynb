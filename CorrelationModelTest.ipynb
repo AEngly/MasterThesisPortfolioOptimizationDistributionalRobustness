{
 "cells": [
  {
   "cell_type": "markdown",
   "id": "39753273",
   "metadata": {},
   "source": [
    "We start by loading dependencies."
   ]
  },
  {
   "cell_type": "code",
   "execution_count": 6,
   "id": "6de378ed",
   "metadata": {},
   "outputs": [],
   "source": [
    "# Load dependencies\n",
    "import datetime as dt\n",
    "import os\n",
    "import numpy as np\n",
    "from mosek.fusion import *\n",
    "from tqdm import tqdm\n",
    "import math\n",
    "import gc\n",
    "from sys import getsizeof\n",
    "from tqdm import tqdm\n",
    "import pandas as pd\n",
    "\n",
    "# Imports from module\n",
    "from EITP.Models.ExcessCVaRModelDROCorrelation import ExcessCVaRModelDROCorrelation as ModelCORR;\n",
    "from EITP.PerformanceEvaluation.QuantitativeStatistics import PerformanceMetrics;\n",
    "from EITP.DataHandlers.DataLoader import DataLoader;\n",
    "from EITP.Auxiliaries.Logger import write_parameters_to_file;"
   ]
  },
  {
   "cell_type": "markdown",
   "id": "615c040c",
   "metadata": {},
   "source": [
    "Then we load the market data to prepare the test."
   ]
  },
  {
   "cell_type": "code",
   "execution_count": null,
   "id": "8a0dbdd3",
   "metadata": {},
   "outputs": [],
   "source": [
    "# Start by instantiating the data loader\n",
    "dataLoader = DataLoader(path='./Data/');\n",
    "priceData = dataLoader.SP500(freq=\"daily\", startDate=\"2012-01-01\", endDate=dt.datetime.today().strftime(\"%Y-%m-%d\"));\n",
    "totalObservations = priceData.shape[0]\n",
    "\n",
    "# Format the output\n",
    "dates = priceData.iloc[:,0]\n",
    "index = priceData.iloc[:,1]\n",
    "indexReturns = priceData.iloc[:,1].pct_change().dropna(axis=0).values\n",
    "assets = priceData.iloc[:,2:]\n",
    "assetsReturns = priceData.iloc[:,2:].pct_change().dropna(axis=0).values"
   ]
  },
  {
   "cell_type": "markdown",
   "id": "94ba7935",
   "metadata": {},
   "source": [
    "Then we can test the model."
   ]
  },
  {
   "cell_type": "code",
   "execution_count": null,
   "id": "6815ac0f",
   "metadata": {
    "scrolled": true
   },
   "outputs": [],
   "source": [
    "# Specify central parameters\n",
    "rho = 2\n",
    "beta = 0.90\n",
    "excessReturnAnually = 0\n",
    "rfAnnualy = 0.02\n",
    "totalEps = 30\n",
    "startEps = -6\n",
    "endEps = 0.5\n",
    "#epsCollection = np.concatenate(([0], 10**np.linspace(startEps, endEps, totalEps)), axis=0)\n",
    "epsCollection = [10**(-2)]\n",
    "kappaCollection = [1, 1.2]\n",
    "alphaDaily = (1 + excessReturnAnually)**(1/252)-1\n",
    "rfDaily = (1 + rfAnnualy)**(1/252)-1\n",
    "\n",
    "# Specify indices for test\n",
    "startIndex = 230\n",
    "endIndex = startIndex + 63\n",
    "\n",
    "# Redefine asset returns (select only 50 assets)\n",
    "assetsReturns = assetsReturns[:,50:70]\n",
    "\n",
    "# Create model instance\n",
    "modelCORR = ModelCORR(returnsAssets=assetsReturns[startIndex:endIndex,:],\n",
    "                            returnsIndex=indexReturns[startIndex:endIndex],\n",
    "                            beta=beta,\n",
    "                            rho=rho,\n",
    "                            alpha=alphaDaily,\n",
    "                            rf=rfDaily)\n",
    "\n",
    "# Solve model\n",
    "resultsCORR = modelCORR.solve(epsCollection=epsCollection, kappaCollection=kappaCollection, rhoCollection=np.array([rho]),\n",
    "            betaCollection=np.array([beta]), progressBar=True)"
   ]
  },
  {
   "cell_type": "code",
   "execution_count": null,
   "id": "e8fd1a96",
   "metadata": {},
   "outputs": [],
   "source": [
    "resultsCORR"
   ]
  },
  {
   "cell_type": "markdown",
   "id": "d6fd6d08",
   "metadata": {},
   "source": [
    "Just testing the reading of the data."
   ]
  },
  {
   "cell_type": "code",
   "execution_count": 2,
   "id": "425faf6c",
   "metadata": {},
   "outputs": [
    {
     "name": "stdout",
     "output_type": "stream",
     "text": [
      "\n",
      "#########################################################################################\n",
      "\n",
      "                           Reproducing Results for Chapter 5                                 \n",
      "\n",
      "#########################################################################################\n",
      "\n"
     ]
    }
   ],
   "source": [
    "\"\"\"\n",
    "File: DATA_ReformatData.py\n",
    "Author: Andreas Engly\n",
    "Date: 30-11-2023\n",
    "Description: This file generates the results for Wasserstein-based DRO of ExcessCVaR model used in the thesis.\n",
    "\n",
    "Dependencies:\n",
    "- See below.\n",
    "\n",
    "Inputs:\n",
    "- In order to get the right results, the model parameters must be modified (look e.g. at ExperimentLog.txt)).\n",
    "\n",
    "Output:\n",
    "- The results are saved into .csv-files. They are reshaped into 1D-arrays and need to be recovered with dimension specified in ExperimentLog.txt.\n",
    "\n",
    "Note:\n",
    "- No additional notes.\n",
    "\n",
    "\"\"\"\n",
    "\n",
    "# Load dependencies\n",
    "import datetime as dt\n",
    "import numpy as np\n",
    "from mosek.fusion import *\n",
    "from tqdm import tqdm\n",
    "import math\n",
    "import gc\n",
    "from sys import getsizeof\n",
    "from tqdm import tqdm\n",
    "\n",
    "# Imports from module\n",
    "from EITP.Models.TrackingModelSAA import TrackingModelSAA as TrackingModelSAA;\n",
    "from EITP.Models.ExcessCVaRModelSAA import ExcessCVaRModelSAA as ExcessCVaRModelSAA;\n",
    "from EITP.Models.TrackingModelDRO import TrackingModelDRO as TrackingModelDRO;\n",
    "from EITP.Models.ExcessCVaRModelDRO import ExcessCVaRModelDRO as ExcessCVaRModelDRO;\n",
    "from EITP.PerformanceEvaluation.QuantitativeStatistics import PerformanceMetrics;\n",
    "from EITP.DataHandlers.DataLoader import DataLoader;\n",
    "from EITP.Auxiliaries.Logger import write_parameters_to_file;\n",
    "\n",
    "# Print that script is starting\n",
    "print(\"\\n#########################################################################################\\n\")\n",
    "print(\"                           Reproducing Results for Chapter 5                                 \")\n",
    "print(\"\\n#########################################################################################\\n\")\n",
    "\n",
    "#########################################################################################\n",
    "#                             Loading Market Data\n",
    "#########################################################################################\n",
    "\n",
    "# Start by instantiating the data loader\n",
    "dataLoader = DataLoader(path='./Data/');\n",
    "allData = dataLoader.AggregateData(intersect=True, filtered=False, startDate=\"2012-01-01\", endDate=dt.datetime.today().strftime(\"%Y-%m-%d\"));\n",
    "totalObservations = allData.shape[0]\n",
    "\n",
    "# Format the output\n",
    "dates = allData.iloc[:,0]\n",
    "index = allData.iloc[1:,1]\n",
    "indexReturns = allData.iloc[1:,1].values\n",
    "assets = allData.iloc[1:,2:]\n",
    "assetsReturns = allData.iloc[1:,2:].values # (risk-free rate is included here already)"
   ]
  },
  {
   "cell_type": "code",
   "execution_count": 51,
   "id": "4ce4f991",
   "metadata": {},
   "outputs": [],
   "source": [
    "# Start by instantiating the data loader\n",
    "dataLoader = DataLoader(path='./Data/');\n",
    "allData = dataLoader.AggregateData(intersect=True, filtered=False, startDate=\"2012-01-01\", endDate=dt.datetime.today().strftime(\"%Y-%m-%d\"));\n",
    "totalObservations = allData.shape[0]"
   ]
  },
  {
   "cell_type": "code",
   "execution_count": null,
   "id": "e5f0f1ed",
   "metadata": {},
   "outputs": [],
   "source": []
  }
 ],
 "metadata": {
  "kernelspec": {
   "display_name": "Python 3 (ipykernel)",
   "language": "python",
   "name": "python3"
  },
  "language_info": {
   "codemirror_mode": {
    "name": "ipython",
    "version": 3
   },
   "file_extension": ".py",
   "mimetype": "text/x-python",
   "name": "python",
   "nbconvert_exporter": "python",
   "pygments_lexer": "ipython3",
   "version": "3.9.12"
  }
 },
 "nbformat": 4,
 "nbformat_minor": 5
}
