{
 "cells": [
  {
   "cell_type": "markdown",
   "id": "98de71ad",
   "metadata": {},
   "source": [
    "<center> <h1> Robust Mean-Variance Optimization with Factor Model <h1/> <center/>"
   ]
  },
  {
   "cell_type": "markdown",
   "id": "9e9845f1",
   "metadata": {},
   "source": [
    "This notebook follows the tutorial presented by MOSEK here: https://www.mosek.com/resources/portfolio-optimization/"
   ]
  },
  {
   "cell_type": "markdown",
   "id": "2f31744d",
   "metadata": {},
   "source": [
    "# Preliminary Steps"
   ]
  },
  {
   "cell_type": "code",
   "execution_count": 1,
   "id": "807ef879",
   "metadata": {},
   "outputs": [],
   "source": [
    "import sys\n",
    "import os\n",
    "import re\n",
    "import glob\n",
    "import datetime as dt\n",
    "\n",
    "import numpy as np\n",
    "import pandas as pd\n",
    "%matplotlib inline\n",
    "import matplotlib\n",
    "import matplotlib.pyplot as plt\n",
    "from matplotlib.colors import LinearSegmentedColormap\n",
    "\n",
    "from mosek.fusion import *\n",
    "\n",
    "from notebook.services.config import ConfigManager\n",
    "\n",
    "from portfolio_tools import data_download, DataReader"
   ]
  },
  {
   "cell_type": "markdown",
   "id": "95e61b5a",
   "metadata": {},
   "source": [
    "Then we do some basic configuration."
   ]
  },
  {
   "cell_type": "code",
   "execution_count": 2,
   "id": "74668f30",
   "metadata": {},
   "outputs": [
    {
     "name": "stdout",
     "output_type": "stream",
     "text": [
      "3.9.12 (main, Mar 26 2022, 15:44:31) \n",
      "[Clang 13.1.6 (clang-1316.0.21.2)]\n",
      "matplotlib: 3.5.1\n"
     ]
    }
   ],
   "source": [
    "# Version checks\n",
    "print(sys.version)\n",
    "print('matplotlib: {}'.format(matplotlib.__version__))\n",
    "\n",
    "# Jupyter configuration\n",
    "c = ConfigManager()\n",
    "c.update('notebook', {\"CodeCell\": {\"cm_config\": {\"autoCloseBrackets\": False}}})  \n",
    "\n",
    "# Numpy options\n",
    "np.set_printoptions(precision=5, linewidth=120, suppress=True)\n",
    "\n",
    "# Pandas options\n",
    "pd.set_option('display.max_rows', None)\n",
    "\n",
    "# Matplotlib options\n",
    "plt.rcParams['figure.figsize'] = [12, 8]\n",
    "plt.rcParams['figure.dpi'] = 200"
   ]
  },
  {
   "cell_type": "markdown",
   "id": "9f80de1b",
   "metadata": {},
   "source": [
    "### Fetching Data"
   ]
  },
  {
   "cell_type": "markdown",
   "id": "8042f751",
   "metadata": {},
   "source": [
    "In this part, we use AlphaVantage to fetch historical market data. You can acquire an API key here: https://www.alphavantage.co/."
   ]
  },
  {
   "cell_type": "code",
   "execution_count": 3,
   "id": "eab6d2e0",
   "metadata": {},
   "outputs": [
    {
     "name": "stdout",
     "output_type": "stream",
     "text": [
      "Downloading daily_adjusted_PM.csv...\n",
      "Downloaded daily_adjusted_PM.csv.\n",
      "Downloading daily_adjusted_LMT.csv...\n",
      "Downloaded daily_adjusted_LMT.csv.\n",
      "Downloading daily_adjusted_MCD.csv...\n",
      "Downloaded daily_adjusted_MCD.csv.\n",
      "Downloading daily_adjusted_MMM.csv...\n",
      "Downloaded daily_adjusted_MMM.csv.\n",
      "Downloading daily_adjusted_AAPL.csv...\n",
      "Downloaded daily_adjusted_AAPL.csv.\n",
      "Downloading daily_adjusted_MSFT.csv...\n",
      "Downloaded daily_adjusted_MSFT.csv.\n",
      "Downloading daily_adjusted_TXN.csv...\n",
      "Downloaded daily_adjusted_TXN.csv.\n",
      "Downloading daily_adjusted_CSCO.csv...\n",
      "Downloaded daily_adjusted_CSCO.csv.\n",
      "Downloading daily_adjusted_SPY.csv...\n",
      "Downloaded daily_adjusted_SPY.csv.\n",
      "Downloading daily_adjusted_IWM.csv...\n",
      "Downloaded daily_adjusted_IWM.csv.\n"
     ]
    }
   ],
   "source": [
    "# Data downloading:\n",
    "# If the user has an API key for alphavantage.co, then this code part will download the data. \n",
    "# The code can be modified to download from other sources. To be able to run the examples, \n",
    "# and reproduce results in the cookbook, the files have to have the following format and content:\n",
    "# - File name pattern: \"daily_adjusted_[TICKER].csv\", where TICKER is the symbol of a stock. \n",
    "# - The file contains at least columns \"timestamp\", \"adjusted_close\", and \"volume\".\n",
    "# - The data is daily price/volume, covering at least the period from 2016-03-18 until 2021-03-18, \n",
    "# - Files are for the stocks PM, LMT, MCD, MMM, AAPL, MSFT, TXN, CSCO.\n",
    "list_stocks = [\"PM\", \"LMT\", \"MCD\", \"MMM\", \"AAPL\", \"MSFT\", \"TXN\", \"CSCO\"]\n",
    "list_factors = [\"SPY\", \"IWM\"]\n",
    "alphaToken = \"GWTM4RCDX796E3G1\"\n",
    " \n",
    "list_tickers = list_stocks + list_factors\n",
    "if alphaToken is not None:\n",
    "    data_download(list_tickers, alphaToken)  "
   ]
  },
  {
   "cell_type": "markdown",
   "id": "86b4f9e4",
   "metadata": {},
   "source": [
    "### Reading Data"
   ]
  },
  {
   "cell_type": "code",
   "execution_count": null,
   "id": "4c56bebd",
   "metadata": {},
   "outputs": [],
   "source": [
    "investment_start = \"2016-03-18\"\n",
    "investment_end = \"2021-03-18\""
   ]
  },
  {
   "cell_type": "code",
   "execution_count": null,
   "id": "c2a42a11",
   "metadata": {},
   "outputs": [],
   "source": [
    "# The files are in \"stock_data\" folder, named as \"daily_adjusted_[TICKER].csv\"\n",
    "dr = DataReader(folder_path=\"stock_data\", symbol_list=list_tickers)\n",
    "dr.read_data()\n",
    "df_prices, _ = dr.get_period(start_date=investment_start, end_date=investment_end)"
   ]
  },
  {
   "cell_type": "markdown",
   "id": "c03883aa",
   "metadata": {},
   "source": [
    "# Optimization"
   ]
  },
  {
   "cell_type": "markdown",
   "id": "8497f316",
   "metadata": {},
   "source": [
    "### Model Definition"
   ]
  },
  {
   "cell_type": "code",
   "execution_count": 4,
   "id": "03a48237",
   "metadata": {},
   "outputs": [],
   "source": [
    "def absval(M, x, t):\n",
    "    M.constraint(Expr.add(t, x), Domain.greaterThan(0.0))\n",
    "    M.constraint(Expr.sub(t, x), Domain.greaterThan(0.0))\n",
    "    \n",
    "    \n",
    "def sqrtm_symm(m):\n",
    "    e, v = np.linalg.eigh(m)\n",
    "    sqrt_e = np.sqrt(e)\n",
    "    sqrt_m = np.dot(v, np.dot(np.diag(sqrt_e), v.T))\n",
    "    return sqrt_m\n",
    "\n",
    "    \n",
    "def EfficientFrontier(N, mu0, gamma, beta0, Gmx, rho, diag_S_theta_upper, Q0, Nmx, zeta, deltas):\n",
    "\n",
    "    with Model(\"Case study\") as M:\n",
    "        # Settings\n",
    "        #M.setLogHandler(sys.stdout)\n",
    "        \n",
    "        # Get number of factors\n",
    "        K = Q0.shape[0]\n",
    "        \n",
    "        # Variables \n",
    "        # The variable x is the fraction of holdings in each security. \n",
    "        # It is restricted to be positive, which imposes the constraint of no short-selling.   \n",
    "        x = M.variable(\"x\", N, Domain.greaterThan(0.0))\n",
    "        z = M.variable(\"z\", N, Domain.greaterThan(0.0))\n",
    "        \n",
    "        # Constrain absolute value\n",
    "        absval(M, x, z)\n",
    "        \n",
    "        # The variable t1 and t2 models the factor and specific portfolio variance terms.\n",
    "        t1 = M.variable(\"t1\", 1, Domain.greaterThan(0.0))\n",
    "        t2 = M.variable(\"t2\", 1, Domain.greaterThan(0.0))\n",
    "        \n",
    "        # The variables tau, s, u help modeling the factor risk.\n",
    "        tau = M.variable(\"tau\", 1, Domain.greaterThan(0.0))\n",
    "        s = M.variable(\"s\", 1, Domain.greaterThan(0.0))\n",
    "        u = M.variable(\"u\", K, Domain.greaterThan(0.0))\n",
    "    \n",
    "        # Budget constraint\n",
    "        M.constraint('budget', Expr.sum(x), Domain.equalsTo(1.0))\n",
    "        \n",
    "        # Objective (variance minimization)\n",
    "        delta = M.parameter()\n",
    "        wc_return = Expr.sub(Expr.dot(mu0, x), Expr.dot(gamma, z))\n",
    "        M.objective('obj', ObjectiveSense.Maximize, Expr.sub(wc_return, Expr.mul(delta, Expr.add(t1, t2))))\n",
    "                       \n",
    "        # Risk constraint (specific)\n",
    "        M.constraint('spec-risk', Expr.vstack(t2, 0.5, Expr.mulElm(np.sqrt(diag_S_theta_upper), x)), Domain.inRotatedQCone())\n",
    "                    \n",
    "        # Risk constraint (factor)\n",
    "        siG = sqrtm_symm(np.linalg.inv(Gmx))            \n",
    "        H = siG @ (Q0 + zeta * Nmx) @ siG \n",
    "        lam, V = np.linalg.eigh(H)\n",
    "        w = Expr.mul(V.T @ sqrtm_symm(H) @ sqrtm_symm(Gmx) @ beta0.T, x)\n",
    "        M.constraint('fact-risk-1', Expr.sub(t1, Expr.add(tau, Expr.sum(u))), Domain.greaterThan(0.0))\n",
    "        M.constraint('fact-risk-2', Expr.sub(s, 1.0 / lam[-1]), Domain.lessThan(0.0))\n",
    "        M.constraint('fact-risk-3', Expr.vstack(s, Expr.mul(0.5, tau), Expr.dot(rho, z)), Domain.inRotatedQCone())\n",
    "        col1 = Expr.sub(Expr.constTerm(K, 1.0), Expr.mulElm(Expr.repeat(s, K, 0), lam))\n",
    "        M.constraint('fact-risk-4', Expr.hstack(col1, Expr.mul(0.5, u), w), Domain.inRotatedQCone())\n",
    "    \n",
    "        # Create DataFrame to store the results. Last security names (the factors) are removed.\n",
    "        columns = [\"delta\", \"obj\", \"return\", \"risk\", \"zdiff\"] + df_prices.columns[:-K].tolist()\n",
    "        df_result = pd.DataFrame(columns=columns)\n",
    "        for d in deltas:\n",
    "            # Update parameter\n",
    "            delta.setValue(d)\n",
    "            \n",
    "            # Solve optimization\n",
    "            M.solve()\n",
    "            \n",
    "            # Save results\n",
    "            portfolio_return = mu0 @ x.level() - gamma @ z.level()\n",
    "            portfolio_risk = np.sqrt((t1.level() + t2.level())[0])\n",
    "            zdiff = np.sum(np.abs(x.level()) - z.level())\n",
    "            row = pd.Series([d, M.primalObjValue(), portfolio_return, portfolio_risk, zdiff] + list(x.level()), index=columns)\n",
    "            df_result = df_result.append(row, ignore_index=True)\n",
    "\n",
    "        return df_result"
   ]
  },
  {
   "cell_type": "code",
   "execution_count": null,
   "id": "940ca609",
   "metadata": {},
   "outputs": [],
   "source": []
  }
 ],
 "metadata": {
  "kernelspec": {
   "display_name": "Python 3 (ipykernel)",
   "language": "python",
   "name": "python3"
  },
  "language_info": {
   "codemirror_mode": {
    "name": "ipython",
    "version": 3
   },
   "file_extension": ".py",
   "mimetype": "text/x-python",
   "name": "python",
   "nbconvert_exporter": "python",
   "pygments_lexer": "ipython3",
   "version": "3.9.12"
  }
 },
 "nbformat": 4,
 "nbformat_minor": 5
}
