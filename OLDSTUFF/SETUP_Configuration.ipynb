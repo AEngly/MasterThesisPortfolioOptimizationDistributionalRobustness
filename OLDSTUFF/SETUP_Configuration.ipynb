{
 "cells": [
  {
   "cell_type": "markdown",
   "id": "e74bfc22",
   "metadata": {},
   "source": [
    "<center> <h1> Configuration of MOSEK <h1/> <center/>"
   ]
  },
  {
   "cell_type": "markdown",
   "id": "c1cbb576",
   "metadata": {},
   "source": [
    "This notebook follows the tutorial on MOSEK's website: https://docs.mosek.com/10.0/install/installation.html. Subsequently place the directory in a folder called \"Solvers\"."
   ]
  },
  {
   "cell_type": "code",
   "execution_count": 2,
   "id": "87dbd0ac",
   "metadata": {},
   "outputs": [],
   "source": [
    "import os"
   ]
  },
  {
   "cell_type": "markdown",
   "id": "01a0613e",
   "metadata": {},
   "source": [
    "Then we check whether we have the necessary access rights and possibly modify to file to be right."
   ]
  },
  {
   "cell_type": "code",
   "execution_count": 28,
   "id": "9b29165a",
   "metadata": {},
   "outputs": [
    {
     "name": "stdout",
     "output_type": "stream",
     "text": [
      "Fixing library paths\n",
      "  MOSEKLM:\n",
      "  libmosek64.10.0.dylib:\n",
      "    libmosek64.10.0.dylib -> /Users/andreasengly/Documents/Danmarks Tekniske Universitet/MSc. in Mathematical Modelling and Computation/5. semester (Thesis)/Enhanced Index Tracking/Solvers/mosek/10.0/tools/platform/osxaarch64/bin/libmosek64.10.0.dylib\n",
      "  libmosek64.dylib:\n",
      "    libmosek64.10.0.dylib -> /Users/andreasengly/Documents/Danmarks Tekniske Universitet/MSc. in Mathematical Modelling and Computation/5. semester (Thesis)/Enhanced Index Tracking/Solvers/mosek/10.0/tools/platform/osxaarch64/bin/libmosek64.10.0.dylib\n",
      "  libmosekjava10_0.jnilib:\n",
      "    libmosek64.10.0.dylib -> /Users/andreasengly/Documents/Danmarks Tekniske Universitet/MSc. in Mathematical Modelling and Computation/5. semester (Thesis)/Enhanced Index Tracking/Solvers/mosek/10.0/tools/platform/osxaarch64/bin/libmosek64.10.0.dylib\n",
      "  libmosekxx10_0.dylib:\n",
      "    @rpath/libmosek64.10.0.dylib -> /Users/andreasengly/Documents/Danmarks Tekniske Universitet/MSc. in Mathematical Modelling and Computation/5. semester (Thesis)/Enhanced Index Tracking/Solvers/mosek/10.0/tools/platform/osxaarch64/bin/libmosek64.10.0.dylib\n",
      "  lmgrd:\n",
      "  lmutil:\n",
      "  mosek:\n",
      "    @rpath/libmosek64.10.0.dylib -> /Users/andreasengly/Documents/Danmarks Tekniske Universitet/MSc. in Mathematical Modelling and Computation/5. semester (Thesis)/Enhanced Index Tracking/Solvers/mosek/10.0/tools/platform/osxaarch64/bin/libmosek64.10.0.dylib\n",
      "  moseksi:\n",
      "  msktestlic:\n",
      "    @rpath/libmosek64.10.0.dylib -> /Users/andreasengly/Documents/Danmarks Tekniske Universitet/MSc. in Mathematical Modelling and Computation/5. semester (Thesis)/Enhanced Index Tracking/Solvers/mosek/10.0/tools/platform/osxaarch64/bin/libmosek64.10.0.dylib\n",
      "Install successfully completed.\n"
     ]
    }
   ],
   "source": [
    "os.system(\"Solvers/mosek/10.0/tools/platform/osxaarch64/bin/install.py\");"
   ]
  },
  {
   "cell_type": "markdown",
   "id": "19db1661",
   "metadata": {},
   "source": [
    "Then we install the MOSEK Optimization Suite."
   ]
  },
  {
   "cell_type": "code",
   "execution_count": 3,
   "id": "8b288bf1",
   "metadata": {},
   "outputs": [
    {
     "name": "stderr",
     "output_type": "stream",
     "text": [
      "DEPRECATION: Configuring installation scheme with distutils config files is deprecated and will no longer work in the near future. If you are using a Homebrew or Linuxbrew Python, please see discussion at https://github.com/Homebrew/homebrew-core/issues/76621\n"
     ]
    },
    {
     "name": "stdout",
     "output_type": "stream",
     "text": [
      "Collecting Mosek\n",
      "  Downloading Mosek-10.0.46-cp39-cp39-macosx_11_0_arm64.whl (5.7 MB)\n",
      "     ━━━━━━━━━━━━━━━━━━━━━━━━━━━━━━━━━━━━━━━━ 5.7/5.7 MB 9.4 MB/s eta 0:00:00\n",
      "Installing collected packages: Mosek\n"
     ]
    },
    {
     "name": "stderr",
     "output_type": "stream",
     "text": [
      "  DEPRECATION: Configuring installation scheme with distutils config files is deprecated and will no longer work in the near future. If you are using a Homebrew or Linuxbrew Python, please see discussion at https://github.com/Homebrew/homebrew-core/issues/76621\n"
     ]
    },
    {
     "name": "stdout",
     "output_type": "stream",
     "text": [
      "Successfully installed Mosek-10.0.46\n"
     ]
    },
    {
     "name": "stderr",
     "output_type": "stream",
     "text": [
      "DEPRECATION: Configuring installation scheme with distutils config files is deprecated and will no longer work in the near future. If you are using a Homebrew or Linuxbrew Python, please see discussion at https://github.com/Homebrew/homebrew-core/issues/76621\n",
      "\n",
      "[notice] A new release of pip available: 22.3.1 -> 23.2.1\n",
      "[notice] To update, run: python3.9 -m pip install --upgrade pip\n"
     ]
    }
   ],
   "source": [
    "os.system(\"pip install Mosek\");"
   ]
  },
  {
   "cell_type": "code",
   "execution_count": null,
   "id": "12a4dee2",
   "metadata": {},
   "outputs": [],
   "source": []
  }
 ],
 "metadata": {
  "kernelspec": {
   "display_name": "Python 3 (ipykernel)",
   "language": "python",
   "name": "python3"
  },
  "language_info": {
   "codemirror_mode": {
    "name": "ipython",
    "version": 3
   },
   "file_extension": ".py",
   "mimetype": "text/x-python",
   "name": "python",
   "nbconvert_exporter": "python",
   "pygments_lexer": "ipython3",
   "version": "3.9.12"
  }
 },
 "nbformat": 4,
 "nbformat_minor": 5
}
