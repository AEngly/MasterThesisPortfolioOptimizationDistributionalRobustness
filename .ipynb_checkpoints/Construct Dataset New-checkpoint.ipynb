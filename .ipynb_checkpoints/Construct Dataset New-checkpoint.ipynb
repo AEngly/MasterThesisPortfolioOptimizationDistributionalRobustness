{
 "cells": [
  {
   "cell_type": "markdown",
   "id": "dc44e01b",
   "metadata": {},
   "source": [
    "This file constructs a new data set."
   ]
  },
  {
   "cell_type": "code",
   "execution_count": 115,
   "id": "4878567d",
   "metadata": {},
   "outputs": [],
   "source": [
    "# Load dependencies\n",
    "import datetime as dt\n",
    "import numpy as np\n",
    "import pandas as pd\n",
    "from mosek.fusion import *\n",
    "from tqdm import tqdm\n",
    "import math\n",
    "import gc\n",
    "from sys import getsizeof\n",
    "from tqdm import tqdm\n",
    "from pathlib import Path\n",
    "\n",
    "# Imports from module\n",
    "from EITP.Models.TrackingModelSAA import TrackingModelSAA as TrackingModelSAA;\n",
    "from EITP.Models.ExcessCVaRModelSAA import ExcessCVaRModelSAA as ExcessCVaRModelSAA;\n",
    "from EITP.Models.TrackingModelDRO import TrackingModelDRO as TrackingModelDRO;\n",
    "from EITP.Models.ExcessCVaRModelDRO import ExcessCVaRModelDRO as ExcessCVaRModelDRO;\n",
    "from EITP.PerformanceEvaluation.QuantitativeStatistics import PerformanceMetrics;\n",
    "from EITP.Data.DataLoader import DataLoader;\n",
    "from EITP.Auxiliaries.Logger import write_parameters_to_file;"
   ]
  },
  {
   "cell_type": "markdown",
   "id": "d2010d91",
   "metadata": {},
   "source": [
    "Then we load the data from the DataLoader."
   ]
  },
  {
   "cell_type": "code",
   "execution_count": 116,
   "id": "4087d11f",
   "metadata": {},
   "outputs": [],
   "source": [
    "# Specify first date\n",
    "startDate = \"2001-01-01\"\n",
    "\n",
    "# Start by instantiating the data loader\n",
    "dataLoader = DataLoader(path='./Data/');\n",
    "priceData = dataLoader.SP500(freq=\"daily\", startDate=startDate, endDate=dt.datetime.today().strftime(\"%Y-%m-%d\"));\n",
    "yieldData = dataLoader.InterestRates(maturity=\"3 Mo\", startDate=startDate, endDate=dt.datetime.today().strftime(\"%Y-%m-%d\"))\n",
    "totalObservations = priceData.shape[0]\n",
    "\n",
    "# Convert to daily yields (only works for 3 Mo)\n",
    "yieldData[\"3 Mo\"] = (1 + yieldData['3 Mo']/100)**(1/252) - 1\n",
    "\n",
    "# Get asset data\n",
    "aggregateData = pd.merge(yieldData, priceData, on='Dates', how='inner')"
   ]
  },
  {
   "cell_type": "markdown",
   "id": "95561157",
   "metadata": {},
   "source": [
    "Now the dates match. Then we calculate the returns separately and concatenate bond yields and equity returns."
   ]
  },
  {
   "cell_type": "code",
   "execution_count": 117,
   "id": "22bb11c7",
   "metadata": {},
   "outputs": [],
   "source": [
    "# Format the output\n",
    "dates = aggregateData['Dates']\n",
    "index = aggregateData['SPX-INDEX']\n",
    "indexReturns = np.array([None] + list(index.pct_change().dropna(axis=0)))\n",
    "equity = aggregateData.drop(labels=['Dates', '3 Mo', 'SPX-INDEX'], axis=1)\n",
    "equityReturns = equity.pct_change().dropna(axis=0)\n",
    "treasuryReturns = aggregateData['3 Mo'].values[:-1].reshape(-1,1)\n",
    "assetReturns = np.concatenate([treasuryReturns, equityReturns], axis=1)\n",
    "\n",
    "# Add row of None to assetReturns\n",
    "noneArray = np.array([None for i in range(assetReturns.shape[1])])\n",
    "assetReturns = np.concatenate([noneArray.reshape(1,-1), assetReturns], axis=0)\n",
    "\n",
    "# Save the data to avoid further mistakes\n",
    "allReturns = pd.DataFrame(assetReturns)\n",
    "allReturns.insert(0, 'Dates', dates)\n",
    "allReturns.insert(1, 'SPX-INDEX', indexReturns)\n",
    "allReturns = allReturns.rename(columns={0: 'TREASURY-3M'})"
   ]
  },
  {
   "cell_type": "markdown",
   "id": "83ad8f45",
   "metadata": {},
   "source": [
    "Save the returns into a file of returns on assets."
   ]
  },
  {
   "cell_type": "code",
   "execution_count": 119,
   "id": "b4851554",
   "metadata": {},
   "outputs": [],
   "source": [
    "filepath = Path('./Data/Combined/dailyEquity_3MTreasury_Intersect.csv')\n",
    "allReturns.to_csv(filepath, index=False)"
   ]
  }
 ],
 "metadata": {
  "kernelspec": {
   "display_name": "Python 3 (ipykernel)",
   "language": "python",
   "name": "python3"
  },
  "language_info": {
   "codemirror_mode": {
    "name": "ipython",
    "version": 3
   },
   "file_extension": ".py",
   "mimetype": "text/x-python",
   "name": "python",
   "nbconvert_exporter": "python",
   "pygments_lexer": "ipython3",
   "version": "3.9.12"
  }
 },
 "nbformat": 4,
 "nbformat_minor": 5
}
