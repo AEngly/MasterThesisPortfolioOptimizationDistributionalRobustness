{
 "cells": [
  {
   "cell_type": "markdown",
   "id": "e74bfc22",
   "metadata": {},
   "source": [
    "<center> <h1> Configuration of MOSEK <h1/> <center/>"
   ]
  },
  {
   "cell_type": "markdown",
   "id": "c1cbb576",
   "metadata": {},
   "source": [
    "This notebook follows the tutorial on MOSEK's website: https://docs.mosek.com/10.0/install/installation.html. Subsequently place the directory in a folder called \"Solvers\"."
   ]
  },
  {
   "cell_type": "code",
   "execution_count": null,
   "id": "87dbd0ac",
   "metadata": {},
   "outputs": [],
   "source": [
    "import os"
   ]
  },
  {
   "cell_type": "markdown",
   "id": "01a0613e",
   "metadata": {},
   "source": [
    "Then we check whether we have the necessary access rights and possibly modify to file to be right."
   ]
  },
  {
   "cell_type": "code",
   "execution_count": 28,
   "id": "9b29165a",
   "metadata": {},
   "outputs": [
    {
     "name": "stdout",
     "output_type": "stream",
     "text": [
      "Fixing library paths\n",
      "  MOSEKLM:\n",
      "  libmosek64.10.0.dylib:\n",
      "    libmosek64.10.0.dylib -> /Users/andreasengly/Documents/Danmarks Tekniske Universitet/MSc. in Mathematical Modelling and Computation/5. semester (Thesis)/Enhanced Index Tracking/Solvers/mosek/10.0/tools/platform/osxaarch64/bin/libmosek64.10.0.dylib\n",
      "  libmosek64.dylib:\n",
      "    libmosek64.10.0.dylib -> /Users/andreasengly/Documents/Danmarks Tekniske Universitet/MSc. in Mathematical Modelling and Computation/5. semester (Thesis)/Enhanced Index Tracking/Solvers/mosek/10.0/tools/platform/osxaarch64/bin/libmosek64.10.0.dylib\n",
      "  libmosekjava10_0.jnilib:\n",
      "    libmosek64.10.0.dylib -> /Users/andreasengly/Documents/Danmarks Tekniske Universitet/MSc. in Mathematical Modelling and Computation/5. semester (Thesis)/Enhanced Index Tracking/Solvers/mosek/10.0/tools/platform/osxaarch64/bin/libmosek64.10.0.dylib\n",
      "  libmosekxx10_0.dylib:\n",
      "    @rpath/libmosek64.10.0.dylib -> /Users/andreasengly/Documents/Danmarks Tekniske Universitet/MSc. in Mathematical Modelling and Computation/5. semester (Thesis)/Enhanced Index Tracking/Solvers/mosek/10.0/tools/platform/osxaarch64/bin/libmosek64.10.0.dylib\n",
      "  lmgrd:\n",
      "  lmutil:\n",
      "  mosek:\n",
      "    @rpath/libmosek64.10.0.dylib -> /Users/andreasengly/Documents/Danmarks Tekniske Universitet/MSc. in Mathematical Modelling and Computation/5. semester (Thesis)/Enhanced Index Tracking/Solvers/mosek/10.0/tools/platform/osxaarch64/bin/libmosek64.10.0.dylib\n",
      "  moseksi:\n",
      "  msktestlic:\n",
      "    @rpath/libmosek64.10.0.dylib -> /Users/andreasengly/Documents/Danmarks Tekniske Universitet/MSc. in Mathematical Modelling and Computation/5. semester (Thesis)/Enhanced Index Tracking/Solvers/mosek/10.0/tools/platform/osxaarch64/bin/libmosek64.10.0.dylib\n",
      "Install successfully completed.\n"
     ]
    }
   ],
   "source": [
    "os.system(\"Solvers/mosek/10.0/tools/platform/osxaarch64/bin/install.py\");"
   ]
  },
  {
   "cell_type": "code",
   "execution_count": null,
   "id": "13cee897",
   "metadata": {},
   "outputs": [],
   "source": []
  }
 ],
 "metadata": {
  "kernelspec": {
   "display_name": "Python 3 (ipykernel)",
   "language": "python",
   "name": "python3"
  },
  "language_info": {
   "codemirror_mode": {
    "name": "ipython",
    "version": 3
   },
   "file_extension": ".py",
   "mimetype": "text/x-python",
   "name": "python",
   "nbconvert_exporter": "python",
   "pygments_lexer": "ipython3",
   "version": "3.9.12"
  }
 },
 "nbformat": 4,
 "nbformat_minor": 5
}
