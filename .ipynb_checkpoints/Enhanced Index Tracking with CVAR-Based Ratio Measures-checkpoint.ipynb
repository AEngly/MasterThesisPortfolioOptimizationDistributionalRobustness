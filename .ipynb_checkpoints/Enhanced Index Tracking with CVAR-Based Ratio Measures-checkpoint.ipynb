{
 "cells": [
  {
   "cell_type": "markdown",
   "id": "d7628542",
   "metadata": {},
   "source": [
    "<center><h1> Enhanced Index Tracking with CVAR-Based Ratio Measures <h1/><center/>"
   ]
  },
  {
   "cell_type": "markdown",
   "id": "4c616352",
   "metadata": {},
   "source": [
    "This notebook tries to replicate the results from the above paper."
   ]
  },
  {
   "cell_type": "markdown",
   "id": "70c2b987",
   "metadata": {},
   "source": [
    "## Preamble"
   ]
  },
  {
   "cell_type": "code",
   "execution_count": 32,
   "id": "3707d9ea",
   "metadata": {},
   "outputs": [],
   "source": [
    "import pandas as pd\n",
    "import numpy as np\n",
    "from mosek.fusion import *"
   ]
  },
  {
   "cell_type": "markdown",
   "id": "21e490ab",
   "metadata": {},
   "source": [
    "## Loading Data"
   ]
  },
  {
   "cell_type": "code",
   "execution_count": 6,
   "id": "afb4ae3c",
   "metadata": {},
   "outputs": [],
   "source": [
    "pathCSV = \"./Data/Data from Guastaroba (2020)/CSV\";"
   ]
  },
  {
   "cell_type": "markdown",
   "id": "14363077",
   "metadata": {},
   "source": [
    "Read data for the UU-period."
   ]
  },
  {
   "cell_type": "code",
   "execution_count": 9,
   "id": "715e04bd",
   "metadata": {},
   "outputs": [],
   "source": [
    "IS_UU = pd.read_csv(pathCSV + \"/IS-GMS-UU.csv\", header=None);\n",
    "IS_UU = IS_UU.values;\n",
    "OoS_UU = pd.read_csv(pathCSV + \"/OoS-GMS-UU.csv\", header=None);\n",
    "OoS_UU = OoS_UU.values;"
   ]
  },
  {
   "cell_type": "markdown",
   "id": "f5595a3b",
   "metadata": {},
   "source": [
    "Read data for the UD-period."
   ]
  },
  {
   "cell_type": "code",
   "execution_count": 10,
   "id": "590166fb",
   "metadata": {},
   "outputs": [],
   "source": [
    "IS_UD = pd.read_csv(pathCSV + \"/IS-GMS-UD.csv\", header=None);\n",
    "IS_UD = IS_UD.values;\n",
    "OoS_UD = pd.read_csv(pathCSV + \"/OoS-GMS-UD.csv\", header=None);\n",
    "OoS_UD = OoS_UD.values;"
   ]
  },
  {
   "cell_type": "markdown",
   "id": "c13d2d98",
   "metadata": {},
   "source": [
    "Read data for the DD-period."
   ]
  },
  {
   "cell_type": "code",
   "execution_count": 11,
   "id": "d68c3b3a",
   "metadata": {},
   "outputs": [],
   "source": [
    "IS_DD = pd.read_csv(pathCSV + \"/IS-GMS-DD.csv\", header=None);\n",
    "IS_DD = IS_DD.values;\n",
    "OoS_DD = pd.read_csv(pathCSV + \"/OoS-GMS-DD.csv\", header=None);\n",
    "OoS_DD = OoS_DD.values;"
   ]
  },
  {
   "cell_type": "markdown",
   "id": "7da2465c",
   "metadata": {},
   "source": [
    "Read data for the DU-period."
   ]
  },
  {
   "cell_type": "code",
   "execution_count": 12,
   "id": "d1732bba",
   "metadata": {},
   "outputs": [],
   "source": [
    "IS_DU = pd.read_csv(pathCSV + \"/IS-GMS-DU.csv\", header=None);\n",
    "IS_DU = IS_DU.values;\n",
    "OoS_DU = pd.read_csv(pathCSV + \"/OoS-GMS-DU.csv\", header=None);\n",
    "OoS_DU = OoS_DU.values;"
   ]
  },
  {
   "cell_type": "markdown",
   "id": "fde9af5b",
   "metadata": {},
   "source": [
    "The indices are located in the first column."
   ]
  },
  {
   "cell_type": "markdown",
   "id": "e898b97a",
   "metadata": {},
   "source": [
    "## Building model with MOSEK's Fusion API"
   ]
  },
  {
   "cell_type": "markdown",
   "id": "a0b048f8",
   "metadata": {},
   "source": [
    "We start by specifying necessary constants."
   ]
  },
  {
   "cell_type": "code",
   "execution_count": 28,
   "id": "d3b120b6",
   "metadata": {},
   "outputs": [],
   "source": [
    "def WCVaR(N, T):\n",
    "    \n",
    "    with Model('WCVaR') as M:\n",
    "        \n",
    "        # Define variables\n",
    "        x = M.variable(\"x\", N, Domain.greaterThan(0.0));\n",
    "        d = M.variable(\"d\", T, Domain.greaterThan(0.0));\n",
    "        \n",
    "        # Define constraints\n",
    "        \n",
    "        # Define objective"
   ]
  },
  {
   "cell_type": "code",
   "execution_count": 64,
   "id": "bfd84bb0",
   "metadata": {},
   "outputs": [],
   "source": [
    "T = 104;\n",
    "N = 100;\n",
    "\n",
    "alphaAnnualy = 0.04;\n",
    "alphaWeekly = ((1 + alphaAnnualy)**(1/52) - 1);"
   ]
  },
  {
   "cell_type": "code",
   "execution_count": 65,
   "id": "8b3cb87c",
   "metadata": {},
   "outputs": [
    {
     "data": {
      "text/plain": [
       "0.000754528997614079"
      ]
     },
     "execution_count": 65,
     "metadata": {},
     "output_type": "execute_result"
    }
   ],
   "source": [
    "alphaWeekly"
   ]
  },
  {
   "cell_type": "markdown",
   "id": "89b6a332",
   "metadata": {},
   "source": [
    "Then we compute the necessary moments."
   ]
  },
  {
   "cell_type": "code",
   "execution_count": 36,
   "id": "38ef00fb",
   "metadata": {},
   "outputs": [],
   "source": [
    "means = np.mean(IS_UU, axis=0)\n",
    "mu_alpha = means[0]"
   ]
  },
  {
   "cell_type": "code",
   "execution_count": 37,
   "id": "40657f4c",
   "metadata": {},
   "outputs": [
    {
     "data": {
      "text/plain": [
       "(101,)"
      ]
     },
     "execution_count": 37,
     "metadata": {},
     "output_type": "execute_result"
    }
   ],
   "source": [
    "mu.shape"
   ]
  },
  {
   "cell_type": "code",
   "execution_count": 61,
   "id": "5a52cd24",
   "metadata": {},
   "outputs": [
    {
     "data": {
      "text/plain": [
       "0.156050258402336"
      ]
     },
     "execution_count": 61,
     "metadata": {},
     "output_type": "execute_result"
    }
   ],
   "source": [
    "((mu[0] + 1)**52 - 1)"
   ]
  },
  {
   "cell_type": "code",
   "execution_count": 49,
   "id": "9d769b9b",
   "metadata": {},
   "outputs": [
    {
     "data": {
      "text/plain": [
       "0.0027925312067307692"
      ]
     },
     "execution_count": 49,
     "metadata": {},
     "output_type": "execute_result"
    }
   ],
   "source": [
    "mu[0]"
   ]
  },
  {
   "cell_type": "code",
   "execution_count": null,
   "id": "4abe89a8",
   "metadata": {},
   "outputs": [],
   "source": []
  }
 ],
 "metadata": {
  "kernelspec": {
   "display_name": "Python 3 (ipykernel)",
   "language": "python",
   "name": "python3"
  },
  "language_info": {
   "codemirror_mode": {
    "name": "ipython",
    "version": 3
   },
   "file_extension": ".py",
   "mimetype": "text/x-python",
   "name": "python",
   "nbconvert_exporter": "python",
   "pygments_lexer": "ipython3",
   "version": "3.9.12"
  }
 },
 "nbformat": 4,
 "nbformat_minor": 5
}
