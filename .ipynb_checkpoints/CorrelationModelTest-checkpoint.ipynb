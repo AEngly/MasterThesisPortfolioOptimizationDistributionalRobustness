{
 "cells": [
  {
   "cell_type": "markdown",
   "id": "39753273",
   "metadata": {},
   "source": [
    "We start by loading dependencies."
   ]
  },
  {
   "cell_type": "code",
   "execution_count": null,
   "id": "6de378ed",
   "metadata": {},
   "outputs": [],
   "source": [
    "# Load dependencies\n",
    "import datetime as dt\n",
    "import os\n",
    "import numpy as np\n",
    "from mosek.fusion import *\n",
    "from tqdm import tqdm\n",
    "import math\n",
    "import gc\n",
    "from sys import getsizeof\n",
    "from tqdm import tqdm\n",
    "\n",
    "# Imports from module\n",
    "from EITP.Models.ExcessCVaRModelDROCorrelation import ExcessCVaRModelDROCorrelation as ModelCORR;\n",
    "from EITP.PerformanceEvaluation.QuantitativeStatistics import PerformanceMetrics;\n",
    "from EITP.Data.DataLoader import DataLoader;\n",
    "from EITP.Auxiliaries.Logger import write_parameters_to_file;"
   ]
  },
  {
   "cell_type": "markdown",
   "id": "615c040c",
   "metadata": {},
   "source": [
    "Then we load the market data to prepare the test."
   ]
  },
  {
   "cell_type": "code",
   "execution_count": null,
   "id": "8a0dbdd3",
   "metadata": {},
   "outputs": [],
   "source": [
    "# Start by instantiating the data loader\n",
    "dataLoader = DataLoader(path='./Data/');\n",
    "priceData = dataLoader.SP500(freq=\"daily\", startDate=\"2012-01-01\", endDate=dt.datetime.today().strftime(\"%Y-%m-%d\"));\n",
    "totalObservations = priceData.shape[0]\n",
    "\n",
    "# Format the output\n",
    "dates = priceData.iloc[:,0]\n",
    "index = priceData.iloc[:,1]\n",
    "indexReturns = priceData.iloc[:,1].pct_change().dropna(axis=0).values\n",
    "assets = priceData.iloc[:,2:]\n",
    "assetsReturns = priceData.iloc[:,2:].pct_change().dropna(axis=0).values"
   ]
  },
  {
   "cell_type": "markdown",
   "id": "94ba7935",
   "metadata": {},
   "source": [
    "Then we can test the model."
   ]
  },
  {
   "cell_type": "code",
   "execution_count": null,
   "id": "6815ac0f",
   "metadata": {
    "scrolled": true
   },
   "outputs": [],
   "source": [
    "# Specify central parameters\n",
    "rho = 2\n",
    "beta = 0.90\n",
    "excessReturnAnually = 0\n",
    "rfAnnualy = 0.02\n",
    "totalEps = 30\n",
    "startEps = -6\n",
    "endEps = 0.5\n",
    "#epsCollection = np.concatenate(([0], 10**np.linspace(startEps, endEps, totalEps)), axis=0)\n",
    "epsCollection = [10**(-2)]\n",
    "kappaCollection = [1, 1.2]\n",
    "alphaDaily = (1 + excessReturnAnually)**(1/252)-1\n",
    "rfDaily = (1 + rfAnnualy)**(1/252)-1\n",
    "\n",
    "# Specify indices for test\n",
    "startIndex = 230\n",
    "endIndex = startIndex + 63\n",
    "\n",
    "# Redefine asset returns (select only 50 assets)\n",
    "assetsReturns = assetsReturns[:,50:70]\n",
    "\n",
    "# Create model instance\n",
    "modelCORR = ModelCORR(returnsAssets=assetsReturns[startIndex:endIndex,:],\n",
    "                            returnsIndex=indexReturns[startIndex:endIndex],\n",
    "                            beta=beta,\n",
    "                            rho=rho,\n",
    "                            alpha=alphaDaily,\n",
    "                            rf=rfDaily)\n",
    "\n",
    "# Solve model\n",
    "resultsCORR = modelCORR.solve(epsCollection=epsCollection, kappaCollection=kappaCollection, rhoCollection=np.array([rho]),\n",
    "            betaCollection=np.array([beta]), progressBar=True)"
   ]
  },
  {
   "cell_type": "code",
   "execution_count": null,
   "id": "e8fd1a96",
   "metadata": {},
   "outputs": [],
   "source": [
    "resultsCORR"
   ]
  },
  {
   "cell_type": "code",
   "execution_count": null,
   "id": "b17f60d0",
   "metadata": {},
   "outputs": [],
   "source": []
  }
 ],
 "metadata": {
  "kernelspec": {
   "display_name": "Python 3 (ipykernel)",
   "language": "python",
   "name": "python3"
  },
  "language_info": {
   "codemirror_mode": {
    "name": "ipython",
    "version": 3
   },
   "file_extension": ".py",
   "mimetype": "text/x-python",
   "name": "python",
   "nbconvert_exporter": "python",
   "pygments_lexer": "ipython3",
   "version": "3.9.12"
  }
 },
 "nbformat": 4,
 "nbformat_minor": 5
}
